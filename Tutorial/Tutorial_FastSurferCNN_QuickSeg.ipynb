{
  "nbformat": 4,
  "nbformat_minor": 0,
  "metadata": {
    "colab": {
      "name": "Tutorial-FastSurferCNN-QuickSeg.ipynb",
      "provenance": [],
      "collapsed_sections": [
        "DpvjCnfdSmSR"
      ],
      "toc_visible": true,
      "authorship_tag": "ABX9TyODH0RiWPpMne476V8555dT",
      "include_colab_link": true
    },
    "kernelspec": {
      "name": "python3",
      "display_name": "Python 3"
    },
    "language_info": {
      "name": "python"
    },
    "accelerator": "GPU"
  },
  "cells": [
    {
      "cell_type": "markdown",
      "metadata": {
        "id": "view-in-github",
        "colab_type": "text"
      },
      "source": [
        "<a href=\"https://colab.research.google.com/github/Deep-MI/FastSurfer/blob/master/Tutorial/Tutorial_FastSurferCNN_QuickSeg.ipynb\" target=\"_parent\"><img src=\"https://colab.research.google.com/assets/colab-badge.svg\" alt=\"Open In Colab\"/></a>"
      ]
    },
    {
      "cell_type": "markdown",
      "metadata": {
        "id": "87qEuu_fXuX9"
      },
      "source": [
        "# **Use case 1: Quick and Easy - FastSurfer Segmentation with three clicks**\n"
      ]
    },
    {
      "cell_type": "markdown",
      "metadata": {
        "id": "DpvjCnfdSmSR"
      },
      "source": [
        "## Enabling the GPU\n",
        "\n",
        "First, you'll need to enable GPUs for the notebook:\n",
        "\n",
        "- Navigate to Edit→Notebook Settings\n",
        "- select GPU from the Hardware Accelerator drop-down"
      ]
    },
    {
      "cell_type": "markdown",
      "metadata": {
        "id": "aKwchby6WVe0"
      },
      "source": [
        "---"
      ]
    },
    {
      "cell_type": "markdown",
      "metadata": {
        "id": "GcGmE7iBLz59"
      },
      "source": [
        "## Click 1: Upload your image\n",
        "\n"
      ]
    },
    {
      "cell_type": "code",
      "metadata": {
        "colab": {
          "resources": {
            "http://localhost:8080/nbextensions/google.colab/files.js": {
              "data": "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",
              "ok": true,
              "headers": [
                [
                  "content-type",
                  "application/javascript"
                ]
              ],
              "status": 200,
              "status_text": ""
            }
          },
          "base_uri": "https://localhost:8080/",
          "height": 72
        },
        "id": "edxPUYqiMDrv",
        "cellView": "form",
        "outputId": "ecc94392-8a95-4c48-f4c8-49f767dea0df"
      },
      "source": [
        "#@title Click the run button to upload your T1-weighted MRI image (will be deleted after the session is over; make sure you have the permissions to do this for the image in question).\n",
        "from google.colab import files\n",
        "\n",
        "uploaded = files.upload()\n",
        "\n",
        "img = \"/content/\" + list(uploaded.keys())[0]"
      ],
      "execution_count": 1,
      "outputs": [
        {
          "output_type": "display_data",
          "data": {
            "text/html": [
              "\n",
              "     <input type=\"file\" id=\"files-8f5c46ea-1562-432f-af4c-5420a71142ee\" name=\"files[]\" multiple disabled\n",
              "        style=\"border:none\" />\n",
              "     <output id=\"result-8f5c46ea-1562-432f-af4c-5420a71142ee\">\n",
              "      Upload widget is only available when the cell has been executed in the\n",
              "      current browser session. Please rerun this cell to enable.\n",
              "      </output>\n",
              "      <script src=\"/nbextensions/google.colab/files.js\"></script> "
            ],
            "text/plain": [
              "<IPython.core.display.HTML object>"
            ]
          },
          "metadata": {
            "tags": []
          }
        },
        {
          "output_type": "stream",
          "text": [
            "Saving orig.mgz to orig.mgz\n"
          ],
          "name": "stdout"
        }
      ]
    },
    {
      "cell_type": "code",
      "metadata": {
        "colab": {
          "base_uri": "https://localhost:8080/"
        },
        "cellView": "form",
        "id": "P5p02zyMTwRV",
        "outputId": "eac195a4-cdfa-464c-b537-24522f861390"
      },
      "source": [
        "#@title Alternative: Click the run button to download an example subject from the internet (e.g. FreeSurfer Tutorial data)\n",
        "!curl -k https://surfer.nmr.mgh.harvard.edu/pub/data/tutorial_data/buckner_data/tutorial_subjs/004/mri/orig.mgz -o /content/orig.mgz\n",
        "img = \"/content/orig.mgz\""
      ],
      "execution_count": null,
      "outputs": [
        {
          "output_type": "stream",
          "text": [
            "  % Total    % Received % Xferd  Average Speed   Time    Time     Time  Current\n",
            "                                 Dload  Upload   Total   Spent    Left  Speed\n",
            "100 3706k  100 3706k    0     0  1736k      0  0:00:02  0:00:02 --:--:-- 1736k\n"
          ],
          "name": "stdout"
        }
      ]
    },
    {
      "cell_type": "markdown",
      "metadata": {
        "id": "cbHuMQdRbc3Z"
      },
      "source": [
        "---"
      ]
    },
    {
      "cell_type": "markdown",
      "metadata": {
        "id": "IGWHO-pyKwyA"
      },
      "source": [
        "## Click 2: Run FastSurfer"
      ]
    },
    {
      "cell_type": "code",
      "metadata": {
        "colab": {
          "base_uri": "https://localhost:8080/"
        },
        "id": "8iE-FDuVKmoU",
        "cellView": "form",
        "outputId": "2b7d3bf0-5e43-4ebe-b5a3-6914445cfab8"
      },
      "source": [
        "#@title The first part of FastSurfer creates a whole-brain segmentation into 95 classes. Here, we use the pretrained deep-learning network FastSurferCNN using the checkpoints stored at the open source project deep-mi/fastsurfer to to run the model inference on a single image.\n",
        "import os\n",
        "import sys\n",
        "from os.path import exists, join, basename, splitext\n",
        "\n",
        "git_repo_url = 'https://github.com/deep-mi/fastsurfer.git'\n",
        "project_name = splitext(basename(git_repo_url))[0]\n",
        "if not exists(project_name):\n",
        "  # clone and install dependencies\n",
        "  !git clone -q $git_repo_url\n",
        "  sys.path.append(project_name)\n",
        "\n",
        "# Go to the FastSurfer directory\n",
        "%cd /content/fastsurfer/\n",
        "\n",
        "# Run the program\n",
        "! ./run_fastsurfer.sh --t1 $img \\\n",
        "                      --sd /content/fastsurfer_seg \\\n",
        "                      --sid Tutorial \\\n",
        "                      --seg_only --py python3"
      ],
      "execution_count": 2,
      "outputs": [
        {
          "output_type": "stream",
          "text": [
            "/content/fastsurfer\n",
            "Setting ENV variable FASTSURFER_HOME to current working directory /content/fastsurfer. \n",
            "Change via enviroment to location of your choice if this is undesired (export FASTSURFER_HOME=/dir/to/FastSurfer)\n",
            "Sun May 16 14:17:36 UTC 2021\n",
            "\n",
            "/content/fastsurfer/FastSurferCNN /content/fastsurfer\n",
            "python3 eval.py --in_name /content/orig.mgz --out_name /content/fastsurfer_seg/Tutorial/mri/aparc.DKTatlas+aseg.deep.mgz --order 1 --network_sagittal_path /content/fastsurfer/checkpoints/Sagittal_Weights_FastSurferCNN/ckpts/Epoch_30_training_state.pkl --network_axial_path /content/fastsurfer/checkpoints/Axial_Weights_FastSurferCNN/ckpts/Epoch_30_training_state.pkl --network_coronal_path /content/fastsurfer/checkpoints/Coronal_Weights_FastSurferCNN/ckpts/Epoch_30_training_state.pkl --batch_size 8 --simple_run --run_viewagg_on check\n",
            "Reading volume /content/orig.mgz\n",
            "Cuda available: True, # Available GPUS: 1, Cuda user disabled (--no_cuda flag): False, --> Using device: cuda\n",
            "tcmalloc: large alloc 5301600256 bytes == 0x55dd6b10e000 @  0x7fb7156d6b6b 0x7fb7156f6379 0x7fb6b323925e 0x7fb6b323a9d2 0x7fb6eff1d8e6 0x7fb6f037fdd9 0x7fb6f088a77a 0x7fb6f0855ef9 0x7fb6f080c657 0x7fb6f06b0929 0x7fb6f038390c 0x7fb6f0991209 0x7fb6f099148a 0x7fb6f0865239 0x7fb6f081931e 0x7fb6f06ec4fb 0x7fb701aa2823 0x55dcd30b0d54 0x55dcd30b0a50 0x55dcd3125105 0x55dcd30b230a 0x55dcd31203b5 0x55dcd311f4ae 0x55dcd311f1b3 0x55dcd31e9182 0x55dcd31e94fd 0x55dcd31e93a6 0x55dcd31c0723 0x55dcd31c03cc 0x7fb7144debf7 0x55dcd31c02aa\n",
            "Loading Axial\n",
            "Successfully loaded Image from /content/orig.mgz\n",
            "Loading Axial Net from /content/fastsurfer/checkpoints/Axial_Weights_FastSurferCNN/ckpts/Epoch_30_training_state.pkl\n",
            "Axial model loaded.\n",
            "--->Batch 0 Axial Testing Done.\n",
            "--->Batch 1 Axial Testing Done.\n",
            "--->Batch 2 Axial Testing Done.\n",
            "--->Batch 3 Axial Testing Done.\n",
            "--->Batch 4 Axial Testing Done.\n",
            "--->Batch 5 Axial Testing Done.\n",
            "--->Batch 6 Axial Testing Done.\n",
            "--->Batch 7 Axial Testing Done.\n",
            "--->Batch 8 Axial Testing Done.\n",
            "--->Batch 9 Axial Testing Done.\n",
            "--->Batch 10 Axial Testing Done.\n",
            "--->Batch 11 Axial Testing Done.\n",
            "--->Batch 12 Axial Testing Done.\n",
            "--->Batch 13 Axial Testing Done.\n",
            "--->Batch 14 Axial Testing Done.\n",
            "--->Batch 15 Axial Testing Done.\n",
            "--->Batch 16 Axial Testing Done.\n",
            "--->Batch 17 Axial Testing Done.\n",
            "--->Batch 18 Axial Testing Done.\n",
            "--->Batch 19 Axial Testing Done.\n",
            "--->Batch 20 Axial Testing Done.\n",
            "--->Batch 21 Axial Testing Done.\n",
            "--->Batch 22 Axial Testing Done.\n",
            "--->Batch 23 Axial Testing Done.\n",
            "--->Batch 24 Axial Testing Done.\n",
            "--->Batch 25 Axial Testing Done.\n",
            "--->Batch 26 Axial Testing Done.\n",
            "--->Batch 27 Axial Testing Done.\n",
            "--->Batch 28 Axial Testing Done.\n",
            "--->Batch 29 Axial Testing Done.\n",
            "--->Batch 30 Axial Testing Done.\n",
            "--->Batch 31 Axial Testing Done.\n",
            "Axial View Tested in 7.2759 seconds\n",
            "Loading Coronal.\n",
            "Successfully loaded Image from /content/orig.mgz\n",
            "Loading Coronal Net from /content/fastsurfer/checkpoints/Coronal_Weights_FastSurferCNN/ckpts/Epoch_30_training_state.pkl\n",
            "Coronal model loaded.\n",
            "--->Batch 0 Coronal Testing Done.\n",
            "--->Batch 1 Coronal Testing Done.\n",
            "--->Batch 2 Coronal Testing Done.\n",
            "--->Batch 3 Coronal Testing Done.\n",
            "--->Batch 4 Coronal Testing Done.\n",
            "--->Batch 5 Coronal Testing Done.\n",
            "--->Batch 6 Coronal Testing Done.\n",
            "--->Batch 7 Coronal Testing Done.\n",
            "--->Batch 8 Coronal Testing Done.\n",
            "--->Batch 9 Coronal Testing Done.\n",
            "--->Batch 10 Coronal Testing Done.\n",
            "--->Batch 11 Coronal Testing Done.\n",
            "--->Batch 12 Coronal Testing Done.\n",
            "--->Batch 13 Coronal Testing Done.\n",
            "--->Batch 14 Coronal Testing Done.\n",
            "--->Batch 15 Coronal Testing Done.\n",
            "--->Batch 16 Coronal Testing Done.\n",
            "--->Batch 17 Coronal Testing Done.\n",
            "--->Batch 18 Coronal Testing Done.\n",
            "--->Batch 19 Coronal Testing Done.\n",
            "--->Batch 20 Coronal Testing Done.\n",
            "--->Batch 21 Coronal Testing Done.\n",
            "--->Batch 22 Coronal Testing Done.\n",
            "--->Batch 23 Coronal Testing Done.\n",
            "--->Batch 24 Coronal Testing Done.\n",
            "--->Batch 25 Coronal Testing Done.\n",
            "--->Batch 26 Coronal Testing Done.\n",
            "--->Batch 27 Coronal Testing Done.\n",
            "--->Batch 28 Coronal Testing Done.\n",
            "--->Batch 29 Coronal Testing Done.\n",
            "--->Batch 30 Coronal Testing Done.\n",
            "--->Batch 31 Coronal Testing Done.\n",
            "Coronal View Tested in 6.9200 seconds\n",
            "Loading Sagittal\n",
            "Successfully loaded Image from /content/orig.mgz\n",
            "Loading Sagittal Net from /content/fastsurfer/checkpoints/Sagittal_Weights_FastSurferCNN/ckpts/Epoch_30_training_state.pkl\n",
            "Sagittal model loaded.\n",
            "--->Batch 0 Sagittal Testing Done.\n",
            "--->Batch 1 Sagittal Testing Done.\n",
            "--->Batch 2 Sagittal Testing Done.\n",
            "--->Batch 3 Sagittal Testing Done.\n",
            "--->Batch 4 Sagittal Testing Done.\n",
            "--->Batch 5 Sagittal Testing Done.\n",
            "--->Batch 6 Sagittal Testing Done.\n",
            "--->Batch 7 Sagittal Testing Done.\n",
            "--->Batch 8 Sagittal Testing Done.\n",
            "--->Batch 9 Sagittal Testing Done.\n",
            "--->Batch 10 Sagittal Testing Done.\n",
            "--->Batch 11 Sagittal Testing Done.\n",
            "--->Batch 12 Sagittal Testing Done.\n",
            "--->Batch 13 Sagittal Testing Done.\n",
            "--->Batch 14 Sagittal Testing Done.\n",
            "--->Batch 15 Sagittal Testing Done.\n",
            "--->Batch 16 Sagittal Testing Done.\n",
            "--->Batch 17 Sagittal Testing Done.\n",
            "--->Batch 18 Sagittal Testing Done.\n",
            "--->Batch 19 Sagittal Testing Done.\n",
            "--->Batch 20 Sagittal Testing Done.\n",
            "--->Batch 21 Sagittal Testing Done.\n",
            "--->Batch 22 Sagittal Testing Done.\n",
            "--->Batch 23 Sagittal Testing Done.\n",
            "--->Batch 24 Sagittal Testing Done.\n",
            "--->Batch 25 Sagittal Testing Done.\n",
            "--->Batch 26 Sagittal Testing Done.\n",
            "--->Batch 27 Sagittal Testing Done.\n",
            "--->Batch 28 Sagittal Testing Done.\n",
            "--->Batch 29 Sagittal Testing Done.\n",
            "--->Batch 30 Sagittal Testing Done.\n",
            "--->Batch 31 Sagittal Testing Done.\n",
            "Sagittal View Tested in 7.6660 seconds\n",
            "Saving Segmentation to /content/fastsurfer_seg/Tutorial/mri/aparc.DKTatlas+aseg.deep.mgz\n",
            "Total processing time: 45.9101 seconds.\n",
            "/content/fastsurfer\n"
          ],
          "name": "stdout"
        }
      ]
    },
    {
      "cell_type": "markdown",
      "metadata": {
        "id": "EiKKcO5SbeOR"
      },
      "source": [
        "---"
      ]
    },
    {
      "cell_type": "markdown",
      "metadata": {
        "id": "atsSiGULMrRb"
      },
      "source": [
        "## Click 3: Download the image\n",
        "\n"
      ]
    },
    {
      "cell_type": "code",
      "metadata": {
        "colab": {
          "base_uri": "https://localhost:8080/",
          "height": 17
        },
        "id": "Ga6ytECPLMlh",
        "cellView": "form",
        "outputId": "73889811-566b-459e-b261-122fc2941aa2"
      },
      "source": [
        "#@title Click the run button to download the image to a destination of your choice\n",
        "files.download('/content/fastsurfer_seg/Tutorial/mri/aparc.DKTatlas+aseg.deep.mgz')"
      ],
      "execution_count": null,
      "outputs": [
        {
          "output_type": "display_data",
          "data": {
            "application/javascript": [
              "\n",
              "    async function download(id, filename, size) {\n",
              "      if (!google.colab.kernel.accessAllowed) {\n",
              "        return;\n",
              "      }\n",
              "      const div = document.createElement('div');\n",
              "      const label = document.createElement('label');\n",
              "      label.textContent = `Downloading \"${filename}\": `;\n",
              "      div.appendChild(label);\n",
              "      const progress = document.createElement('progress');\n",
              "      progress.max = size;\n",
              "      div.appendChild(progress);\n",
              "      document.body.appendChild(div);\n",
              "\n",
              "      const buffers = [];\n",
              "      let downloaded = 0;\n",
              "\n",
              "      const channel = await google.colab.kernel.comms.open(id);\n",
              "      // Send a message to notify the kernel that we're ready.\n",
              "      channel.send({})\n",
              "\n",
              "      for await (const message of channel.messages) {\n",
              "        // Send a message to notify the kernel that we're ready.\n",
              "        channel.send({})\n",
              "        if (message.buffers) {\n",
              "          for (const buffer of message.buffers) {\n",
              "            buffers.push(buffer);\n",
              "            downloaded += buffer.byteLength;\n",
              "            progress.value = downloaded;\n",
              "          }\n",
              "        }\n",
              "      }\n",
              "      const blob = new Blob(buffers, {type: 'application/binary'});\n",
              "      const a = document.createElement('a');\n",
              "      a.href = window.URL.createObjectURL(blob);\n",
              "      a.download = filename;\n",
              "      div.appendChild(a);\n",
              "      a.click();\n",
              "      div.remove();\n",
              "    }\n",
              "  "
            ],
            "text/plain": [
              "<IPython.core.display.Javascript object>"
            ]
          },
          "metadata": {
            "tags": []
          }
        },
        {
          "output_type": "display_data",
          "data": {
            "application/javascript": [
              "download(\"download_fc2fc4e2-0285-466c-9abc-ad734b30af6e\", \"aparc.DKTatlas+aseg.deep.mgz\", 638539)"
            ],
            "text/plain": [
              "<IPython.core.display.Javascript object>"
            ]
          },
          "metadata": {
            "tags": []
          }
        }
      ]
    },
    {
      "cell_type": "code",
      "metadata": {
        "colab": {
          "base_uri": "https://localhost:8080/",
          "height": 34
        },
        "cellView": "form",
        "id": "KNvE54R0U5lA",
        "outputId": "b7c9b657-f562-4c11-a23e-9e9fd3395410"
      },
      "source": [
        "#@title If you chose the example subject (Alternative in Click 1), click the run button if you want to download the input image as well\n",
        "from google.colab import files\n",
        "files.download(\"/content/orig.mgz\")"
      ],
      "execution_count": null,
      "outputs": [
        {
          "output_type": "display_data",
          "data": {
            "application/javascript": [
              "\n",
              "    async function download(id, filename, size) {\n",
              "      if (!google.colab.kernel.accessAllowed) {\n",
              "        return;\n",
              "      }\n",
              "      const div = document.createElement('div');\n",
              "      const label = document.createElement('label');\n",
              "      label.textContent = `Downloading \"${filename}\": `;\n",
              "      div.appendChild(label);\n",
              "      const progress = document.createElement('progress');\n",
              "      progress.max = size;\n",
              "      div.appendChild(progress);\n",
              "      document.body.appendChild(div);\n",
              "\n",
              "      const buffers = [];\n",
              "      let downloaded = 0;\n",
              "\n",
              "      const channel = await google.colab.kernel.comms.open(id);\n",
              "      // Send a message to notify the kernel that we're ready.\n",
              "      channel.send({})\n",
              "\n",
              "      for await (const message of channel.messages) {\n",
              "        // Send a message to notify the kernel that we're ready.\n",
              "        channel.send({})\n",
              "        if (message.buffers) {\n",
              "          for (const buffer of message.buffers) {\n",
              "            buffers.push(buffer);\n",
              "            downloaded += buffer.byteLength;\n",
              "            progress.value = downloaded;\n",
              "          }\n",
              "        }\n",
              "      }\n",
              "      const blob = new Blob(buffers, {type: 'application/binary'});\n",
              "      const a = document.createElement('a');\n",
              "      a.href = window.URL.createObjectURL(blob);\n",
              "      a.download = filename;\n",
              "      div.appendChild(a);\n",
              "      a.click();\n",
              "      div.remove();\n",
              "    }\n",
              "  "
            ],
            "text/plain": [
              "<IPython.core.display.Javascript object>"
            ]
          },
          "metadata": {
            "tags": []
          }
        },
        {
          "output_type": "display_data",
          "data": {
            "application/javascript": [
              "download(\"download_55d0e6d4-690e-4e5e-b6b4-f2896ecb2a5f\", \"orig.mgz\", 3795674)"
            ],
            "text/plain": [
              "<IPython.core.display.Javascript object>"
            ]
          },
          "metadata": {
            "tags": []
          }
        }
      ]
    },
    {
      "cell_type": "markdown",
      "metadata": {
        "id": "JPZhtqL2bfJg"
      },
      "source": [
        "---"
      ]
    },
    {
      "cell_type": "markdown",
      "metadata": {
        "id": "ONJnESZLYLLa"
      },
      "source": [
        "# Done! \n",
        "\n",
        "Congratulations. You succesfully segmented your image into 95 classes :). You can now inspect the segmentation with a neuroimaging viewer of your choice. \n",
        "\n",
        "For a more advanced notebook with indepth explanations and further processing options see: https://colab.research.google.com/drive/1tqIWkvFk7riFt25TFHu7K6-8jexyaQjW#scrollTo=tpjCqTQWSL76"
      ]
    },
    {
      "cell_type": "markdown",
      "metadata": {
        "id": "ab1VxGALbgFp"
      },
      "source": [
        "---"
      ]
    }
  ]
}